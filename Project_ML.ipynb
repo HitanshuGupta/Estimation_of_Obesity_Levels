{
 "cells": [
  {
   "cell_type": "markdown",
   "id": "3089afeb",
   "metadata": {},
   "source": [
    "# Name - Hitanshu Gupta\n",
    "## Reg. No. - 12018790\n",
    "### Roll No. - RKM035B68\n",
    "### Section - KM035"
   ]
  },
  {
   "cell_type": "markdown",
   "id": "e9a27d23",
   "metadata": {},
   "source": [
    "## Project Topic  - Estimation of obesity levels based on eating habits and physical condition"
   ]
  },
  {
   "cell_type": "markdown",
   "id": "6ef55c0f",
   "metadata": {},
   "source": [
    "# Packages"
   ]
  },
  {
   "cell_type": "code",
   "execution_count": 1,
   "id": "036c1b4f",
   "metadata": {},
   "outputs": [],
   "source": [
    "import numpy as np\n",
    "import matplotlib.pyplot as plt\n",
    "import seaborn as sns\n",
    "import pandas as pd\n",
    "from sklearn.model_selection import train_test_split\n",
    "from sklearn.metrics import confusion_matrix, accuracy_score, classification_report\n",
    "from sklearn.model_selection import StratifiedKFold,cross_val_score,RandomizedSearchCV,GridSearchCV\n",
    "from sklearn.linear_model import LogisticRegression\n",
    "from sklearn.ensemble import RandomForestClassifier\n",
    "from sklearn.naive_bayes import GaussianNB"
   ]
  },
  {
   "cell_type": "code",
   "execution_count": 2,
   "id": "18553c5a",
   "metadata": {},
   "outputs": [],
   "source": [
    "df = pd.read_csv(\"ObesityDataSet_raw_and_data_sinthetic.csv\",na_values='?')"
   ]
  },
  {
   "cell_type": "code",
   "execution_count": 3,
   "id": "a4ec115d",
   "metadata": {},
   "outputs": [
    {
     "data": {
      "text/plain": [
       "Gender                            0\n",
       "Age                               0\n",
       "Height                            0\n",
       "Weight                            0\n",
       "family_history_with_overweight    0\n",
       "FAVC                              0\n",
       "FCVC                              0\n",
       "NCP                               0\n",
       "CAEC                              0\n",
       "SMOKE                             0\n",
       "CH2O                              0\n",
       "SCC                               0\n",
       "FAF                               0\n",
       "TUE                               0\n",
       "CALC                              0\n",
       "MTRANS                            0\n",
       "NObeyesdad                        0\n",
       "dtype: int64"
      ]
     },
     "execution_count": 3,
     "metadata": {},
     "output_type": "execute_result"
    }
   ],
   "source": [
    "# check for missing values\n",
    "df.isna().sum()"
   ]
  },
  {
   "cell_type": "code",
   "execution_count": 4,
   "id": "682c1900",
   "metadata": {},
   "outputs": [
    {
     "name": "stdout",
     "output_type": "stream",
     "text": [
      "<class 'pandas.core.frame.DataFrame'>\n",
      "RangeIndex: 2111 entries, 0 to 2110\n",
      "Data columns (total 17 columns):\n",
      " #   Column                          Non-Null Count  Dtype  \n",
      "---  ------                          --------------  -----  \n",
      " 0   Gender                          2111 non-null   object \n",
      " 1   Age                             2111 non-null   float64\n",
      " 2   Height                          2111 non-null   float64\n",
      " 3   Weight                          2111 non-null   float64\n",
      " 4   family_history_with_overweight  2111 non-null   object \n",
      " 5   FAVC                            2111 non-null   object \n",
      " 6   FCVC                            2111 non-null   float64\n",
      " 7   NCP                             2111 non-null   float64\n",
      " 8   CAEC                            2111 non-null   object \n",
      " 9   SMOKE                           2111 non-null   object \n",
      " 10  CH2O                            2111 non-null   float64\n",
      " 11  SCC                             2111 non-null   object \n",
      " 12  FAF                             2111 non-null   float64\n",
      " 13  TUE                             2111 non-null   float64\n",
      " 14  CALC                            2111 non-null   object \n",
      " 15  MTRANS                          2111 non-null   object \n",
      " 16  NObeyesdad                      2111 non-null   object \n",
      "dtypes: float64(8), object(9)\n",
      "memory usage: 280.5+ KB\n"
     ]
    }
   ],
   "source": [
    "df.info()"
   ]
  },
  {
   "cell_type": "code",
   "execution_count": null,
   "id": "21b5945e",
   "metadata": {},
   "outputs": [],
   "source": []
  },
  {
   "cell_type": "markdown",
   "id": "41ce3c56",
   "metadata": {},
   "source": [
    "### Outliers"
   ]
  },
  {
   "cell_type": "markdown",
   "id": "1c92bffa",
   "metadata": {},
   "source": [
    "For non-categorical variables, we need to check if there is any outliers. There 3 concerned variables are Age, Height and Weight.\n",
    "For non-categorical variables, we need to check if there is any outliers. There 3 concerned variables are Age, Height and Weight."
   ]
  },
  {
   "cell_type": "code",
   "execution_count": 5,
   "id": "983ff7fc",
   "metadata": {},
   "outputs": [
    {
     "data": {
      "text/plain": [
       "<AxesSubplot:xlabel='Height'>"
      ]
     },
     "execution_count": 5,
     "metadata": {},
     "output_type": "execute_result"
    },
    {
     "data": {
      "image/png": "[encoded data removed]",
      "text/plain": [
       "<Figure size 432x288 with 1 Axes>"
      ]
     },
     "metadata": {
      "needs_background": "light"
     },
     "output_type": "display_data"
    }
   ],
   "source": [
    "sns.boxplot(x=df['Height'])"
   ]
  },
  {
   "cell_type": "code",
   "execution_count": 6,
   "id": "2625fc3d",
   "metadata": {},
   "outputs": [
    {
     "data": {
      "text/plain": [
       "<AxesSubplot:xlabel='Weight'>"
      ]
     },
     "execution_count": 6,
     "metadata": {},
     "output_type": "execute_result"
    },
    {
     "data": {
      "image/png": "[encoded data removed]",
      "text/plain": [
       "<Figure size 432x288 with 1 Axes>"
      ]
     },
     "metadata": {
      "needs_background": "light"
     },
     "output_type": "display_data"
    }
   ],
   "source": [
    "sns.boxplot(x=df['Weight'])"
   ]
  },
  {
   "cell_type": "code",
   "execution_count": 7,
   "id": "83d2d86e",
   "metadata": {},
   "outputs": [],
   "source": [
    "df_categorized = df.copy()"
   ]
  },
  {
   "cell_type": "code",
   "execution_count": 8,
   "id": "66406794",
   "metadata": {},
   "outputs": [
    {
     "data": {
      "text/plain": [
       "(2109, 17)"
      ]
     },
     "execution_count": 8,
     "metadata": {},
     "output_type": "execute_result"
    }
   ],
   "source": [
    "q1, q2 = df_categorized[\"Height\"].quantile(q=0.25), df_categorized[\"Height\"].quantile(q=0.75)\n",
    "q3, q4 = df_categorized[\"Weight\"].quantile(q=0.25), df_categorized[\"Weight\"].quantile(q=0.75)\n",
    "\n",
    "IQR1, IQR2 = q2-q1, q4-q3\n",
    "\n",
    "#Height selection\n",
    "df_categorized = df_categorized[df_categorized[\"Height\"] >  q1 - 1.5*IQR1]\n",
    "df_categorized = df_categorized[df_categorized[\"Height\"] <  q2 + 1.5*IQR1]\n",
    "\n",
    "#Weight selection\n",
    "df_categorized = df_categorized[df_categorized[\"Weight\"] >  q3 - 1.5*IQR2]\n",
    "df_categorized = df_categorized[df_categorized[\"Weight\"] <  q4 + 1.5*IQR2]\n",
    "\n",
    "df_categorized.shape"
   ]
  },
  {
   "cell_type": "code",
   "execution_count": 9,
   "id": "f0c80fb0",
   "metadata": {},
   "outputs": [
    {
     "data": {
      "text/plain": [
       "(2111, 17)"
      ]
     },
     "execution_count": 9,
     "metadata": {},
     "output_type": "execute_result"
    }
   ],
   "source": [
    "df.shape"
   ]
  },
  {
   "cell_type": "markdown",
   "id": "bdb92c22",
   "metadata": {},
   "source": [
    "Only 3 lines were deleted."
   ]
  },
  {
   "cell_type": "code",
   "execution_count": 10,
   "id": "9f47690a",
   "metadata": {},
   "outputs": [
    {
     "data": {
      "text/plain": [
       "<AxesSubplot:xlabel='Weight'>"
      ]
     },
     "execution_count": 10,
     "metadata": {},
     "output_type": "execute_result"
    },
    {
     "data": {
      "image/png": "[encoded data removed]",
      "text/plain": [
       "<Figure size 432x288 with 1 Axes>"
      ]
     },
     "metadata": {
      "needs_background": "light"
     },
     "output_type": "display_data"
    }
   ],
   "source": [
    "sns.boxplot(x=df_categorized['Weight'])"
   ]
  },
  {
   "cell_type": "code",
   "execution_count": 11,
   "id": "5a57fdd3",
   "metadata": {},
   "outputs": [
    {
     "data": {
      "text/plain": [
       "<AxesSubplot:xlabel='Height'>"
      ]
     },
     "execution_count": 11,
     "metadata": {},
     "output_type": "execute_result"
    },
    {
     "data": {
      "image/png": "[encoded data removed]",
      "text/plain": [
       "<Figure size 432x288 with 1 Axes>"
      ]
     },
     "metadata": {
      "needs_background": "light"
     },
     "output_type": "display_data"
    }
   ],
   "source": [
    "sns.boxplot(x=df_categorized['Height'])"
   ]
  },
  {
   "cell_type": "code",
   "execution_count": 12,
   "id": "0cde3de5",
   "metadata": {},
   "outputs": [
    {
     "data": {
      "text/html": [
       "<div>\n",
       "<style scoped>\n",
       "    .dataframe tbody tr th:only-of-type {\n",
       "        vertical-align: middle;\n",
       "    }\n",
       "\n",
       "    .dataframe tbody tr th {\n",
       "        vertical-align: top;\n",
       "    }\n",
       "\n",
       "    .dataframe thead th {\n",
       "        text-align: right;\n",
       "    }\n",
       "</style>\n",
       "<table border=\"1\" class=\"dataframe\">\n",
       "  <thead>\n",
       "    <tr style=\"text-align: right;\">\n",
       "      <th></th>\n",
       "      <th>Gender</th>\n",
       "      <th>Age</th>\n",
       "      <th>Height</th>\n",
       "      <th>Weight</th>\n",
       "      <th>family_history_with_overweight</th>\n",
       "      <th>FAVC</th>\n",
       "      <th>FCVC</th>\n",
       "      <th>NCP</th>\n",
       "      <th>CAEC</th>\n",
       "      <th>SMOKE</th>\n",
       "      <th>CH2O</th>\n",
       "      <th>SCC</th>\n",
       "      <th>FAF</th>\n",
       "      <th>TUE</th>\n",
       "      <th>CALC</th>\n",
       "      <th>MTRANS</th>\n",
       "      <th>NObeyesdad</th>\n",
       "    </tr>\n",
       "  </thead>\n",
       "  <tbody>\n",
       "    <tr>\n",
       "      <th>0</th>\n",
       "      <td>Female</td>\n",
       "      <td>21.0</td>\n",
       "      <td>1.62</td>\n",
       "      <td>64.0</td>\n",
       "      <td>yes</td>\n",
       "      <td>no</td>\n",
       "      <td>2.0</td>\n",
       "      <td>3.0</td>\n",
       "      <td>Sometimes</td>\n",
       "      <td>no</td>\n",
       "      <td>2.0</td>\n",
       "      <td>no</td>\n",
       "      <td>0.0</td>\n",
       "      <td>1.0</td>\n",
       "      <td>no</td>\n",
       "      <td>Public_Transportation</td>\n",
       "      <td>Normal_Weight</td>\n",
       "    </tr>\n",
       "    <tr>\n",
       "      <th>1</th>\n",
       "      <td>Female</td>\n",
       "      <td>21.0</td>\n",
       "      <td>1.52</td>\n",
       "      <td>56.0</td>\n",
       "      <td>yes</td>\n",
       "      <td>no</td>\n",
       "      <td>3.0</td>\n",
       "      <td>3.0</td>\n",
       "      <td>Sometimes</td>\n",
       "      <td>yes</td>\n",
       "      <td>3.0</td>\n",
       "      <td>yes</td>\n",
       "      <td>3.0</td>\n",
       "      <td>0.0</td>\n",
       "      <td>Sometimes</td>\n",
       "      <td>Public_Transportation</td>\n",
       "      <td>Normal_Weight</td>\n",
       "    </tr>\n",
       "    <tr>\n",
       "      <th>2</th>\n",
       "      <td>Male</td>\n",
       "      <td>23.0</td>\n",
       "      <td>1.80</td>\n",
       "      <td>77.0</td>\n",
       "      <td>yes</td>\n",
       "      <td>no</td>\n",
       "      <td>2.0</td>\n",
       "      <td>3.0</td>\n",
       "      <td>Sometimes</td>\n",
       "      <td>no</td>\n",
       "      <td>2.0</td>\n",
       "      <td>no</td>\n",
       "      <td>2.0</td>\n",
       "      <td>1.0</td>\n",
       "      <td>Frequently</td>\n",
       "      <td>Public_Transportation</td>\n",
       "      <td>Normal_Weight</td>\n",
       "    </tr>\n",
       "    <tr>\n",
       "      <th>3</th>\n",
       "      <td>Male</td>\n",
       "      <td>27.0</td>\n",
       "      <td>1.80</td>\n",
       "      <td>87.0</td>\n",
       "      <td>no</td>\n",
       "      <td>no</td>\n",
       "      <td>3.0</td>\n",
       "      <td>3.0</td>\n",
       "      <td>Sometimes</td>\n",
       "      <td>no</td>\n",
       "      <td>2.0</td>\n",
       "      <td>no</td>\n",
       "      <td>2.0</td>\n",
       "      <td>0.0</td>\n",
       "      <td>Frequently</td>\n",
       "      <td>Walking</td>\n",
       "      <td>Overweight_Level_I</td>\n",
       "    </tr>\n",
       "    <tr>\n",
       "      <th>4</th>\n",
       "      <td>Male</td>\n",
       "      <td>22.0</td>\n",
       "      <td>1.78</td>\n",
       "      <td>89.8</td>\n",
       "      <td>no</td>\n",
       "      <td>no</td>\n",
       "      <td>2.0</td>\n",
       "      <td>1.0</td>\n",
       "      <td>Sometimes</td>\n",
       "      <td>no</td>\n",
       "      <td>2.0</td>\n",
       "      <td>no</td>\n",
       "      <td>0.0</td>\n",
       "      <td>0.0</td>\n",
       "      <td>Sometimes</td>\n",
       "      <td>Public_Transportation</td>\n",
       "      <td>Overweight_Level_II</td>\n",
       "    </tr>\n",
       "  </tbody>\n",
       "</table>\n",
       "</div>"
      ],
      "text/plain": [
       "   Gender   Age  Height  Weight family_history_with_overweight FAVC  FCVC  \\\n",
       "0  Female  21.0    1.62    64.0                            yes   no   2.0   \n",
       "1  Female  21.0    1.52    56.0                            yes   no   3.0   \n",
       "2    Male  23.0    1.80    77.0                            yes   no   2.0   \n",
       "3    Male  27.0    1.80    87.0                             no   no   3.0   \n",
       "4    Male  22.0    1.78    89.8                             no   no   2.0   \n",
       "\n",
       "   NCP       CAEC SMOKE  CH2O  SCC  FAF  TUE        CALC  \\\n",
       "0  3.0  Sometimes    no   2.0   no  0.0  1.0          no   \n",
       "1  3.0  Sometimes   yes   3.0  yes  3.0  0.0   Sometimes   \n",
       "2  3.0  Sometimes    no   2.0   no  2.0  1.0  Frequently   \n",
       "3  3.0  Sometimes    no   2.0   no  2.0  0.0  Frequently   \n",
       "4  1.0  Sometimes    no   2.0   no  0.0  0.0   Sometimes   \n",
       "\n",
       "                  MTRANS           NObeyesdad  \n",
       "0  Public_Transportation        Normal_Weight  \n",
       "1  Public_Transportation        Normal_Weight  \n",
       "2  Public_Transportation        Normal_Weight  \n",
       "3                Walking   Overweight_Level_I  \n",
       "4  Public_Transportation  Overweight_Level_II  "
      ]
     },
     "execution_count": 12,
     "metadata": {},
     "output_type": "execute_result"
    }
   ],
   "source": [
    "df_categorized.head()"
   ]
  },
  {
   "cell_type": "code",
   "execution_count": 13,
   "id": "4d83b97b",
   "metadata": {},
   "outputs": [],
   "source": [
    "c=['Gender','family_history_with_overweight','FAVC','CAEC','SMOKE','SCC','CALC','MTRANS','NObeyesdad']\n",
    "from sklearn.preprocessing import LabelEncoder\n",
    "le = LabelEncoder()\n",
    "for i in c:\n",
    "    df_categorized[i]=le.fit_transform(df_categorized[i])"
   ]
  },
  {
   "cell_type": "code",
   "execution_count": 14,
   "id": "6c0dd011",
   "metadata": {},
   "outputs": [
    {
     "data": {
      "text/html": [
       "<div>\n",
       "<style scoped>\n",
       "    .dataframe tbody tr th:only-of-type {\n",
       "        vertical-align: middle;\n",
       "    }\n",
       "\n",
       "    .dataframe tbody tr th {\n",
       "        vertical-align: top;\n",
       "    }\n",
       "\n",
       "    .dataframe thead th {\n",
       "        text-align: right;\n",
       "    }\n",
       "</style>\n",
       "<table border=\"1\" class=\"dataframe\">\n",
       "  <thead>\n",
       "    <tr style=\"text-align: right;\">\n",
       "      <th></th>\n",
       "      <th>Gender</th>\n",
       "      <th>Age</th>\n",
       "      <th>Height</th>\n",
       "      <th>Weight</th>\n",
       "      <th>family_history_with_overweight</th>\n",
       "      <th>FAVC</th>\n",
       "      <th>FCVC</th>\n",
       "      <th>NCP</th>\n",
       "      <th>CAEC</th>\n",
       "      <th>SMOKE</th>\n",
       "      <th>CH2O</th>\n",
       "      <th>SCC</th>\n",
       "      <th>FAF</th>\n",
       "      <th>TUE</th>\n",
       "      <th>CALC</th>\n",
       "      <th>MTRANS</th>\n",
       "      <th>NObeyesdad</th>\n",
       "    </tr>\n",
       "  </thead>\n",
       "  <tbody>\n",
       "    <tr>\n",
       "      <th>0</th>\n",
       "      <td>0</td>\n",
       "      <td>21.0</td>\n",
       "      <td>1.62</td>\n",
       "      <td>64.0</td>\n",
       "      <td>1</td>\n",
       "      <td>0</td>\n",
       "      <td>2.0</td>\n",
       "      <td>3.0</td>\n",
       "      <td>2</td>\n",
       "      <td>0</td>\n",
       "      <td>2.0</td>\n",
       "      <td>0</td>\n",
       "      <td>0.0</td>\n",
       "      <td>1.0</td>\n",
       "      <td>3</td>\n",
       "      <td>3</td>\n",
       "      <td>1</td>\n",
       "    </tr>\n",
       "    <tr>\n",
       "      <th>1</th>\n",
       "      <td>0</td>\n",
       "      <td>21.0</td>\n",
       "      <td>1.52</td>\n",
       "      <td>56.0</td>\n",
       "      <td>1</td>\n",
       "      <td>0</td>\n",
       "      <td>3.0</td>\n",
       "      <td>3.0</td>\n",
       "      <td>2</td>\n",
       "      <td>1</td>\n",
       "      <td>3.0</td>\n",
       "      <td>1</td>\n",
       "      <td>3.0</td>\n",
       "      <td>0.0</td>\n",
       "      <td>2</td>\n",
       "      <td>3</td>\n",
       "      <td>1</td>\n",
       "    </tr>\n",
       "    <tr>\n",
       "      <th>2</th>\n",
       "      <td>1</td>\n",
       "      <td>23.0</td>\n",
       "      <td>1.80</td>\n",
       "      <td>77.0</td>\n",
       "      <td>1</td>\n",
       "      <td>0</td>\n",
       "      <td>2.0</td>\n",
       "      <td>3.0</td>\n",
       "      <td>2</td>\n",
       "      <td>0</td>\n",
       "      <td>2.0</td>\n",
       "      <td>0</td>\n",
       "      <td>2.0</td>\n",
       "      <td>1.0</td>\n",
       "      <td>1</td>\n",
       "      <td>3</td>\n",
       "      <td>1</td>\n",
       "    </tr>\n",
       "    <tr>\n",
       "      <th>3</th>\n",
       "      <td>1</td>\n",
       "      <td>27.0</td>\n",
       "      <td>1.80</td>\n",
       "      <td>87.0</td>\n",
       "      <td>0</td>\n",
       "      <td>0</td>\n",
       "      <td>3.0</td>\n",
       "      <td>3.0</td>\n",
       "      <td>2</td>\n",
       "      <td>0</td>\n",
       "      <td>2.0</td>\n",
       "      <td>0</td>\n",
       "      <td>2.0</td>\n",
       "      <td>0.0</td>\n",
       "      <td>1</td>\n",
       "      <td>4</td>\n",
       "      <td>5</td>\n",
       "    </tr>\n",
       "    <tr>\n",
       "      <th>4</th>\n",
       "      <td>1</td>\n",
       "      <td>22.0</td>\n",
       "      <td>1.78</td>\n",
       "      <td>89.8</td>\n",
       "      <td>0</td>\n",
       "      <td>0</td>\n",
       "      <td>2.0</td>\n",
       "      <td>1.0</td>\n",
       "      <td>2</td>\n",
       "      <td>0</td>\n",
       "      <td>2.0</td>\n",
       "      <td>0</td>\n",
       "      <td>0.0</td>\n",
       "      <td>0.0</td>\n",
       "      <td>2</td>\n",
       "      <td>3</td>\n",
       "      <td>6</td>\n",
       "    </tr>\n",
       "  </tbody>\n",
       "</table>\n",
       "</div>"
      ],
      "text/plain": [
       "   Gender   Age  Height  Weight  family_history_with_overweight  FAVC  FCVC  \\\n",
       "0       0  21.0    1.62    64.0                               1     0   2.0   \n",
       "1       0  21.0    1.52    56.0                               1     0   3.0   \n",
       "2       1  23.0    1.80    77.0                               1     0   2.0   \n",
       "3       1  27.0    1.80    87.0                               0     0   3.0   \n",
       "4       1  22.0    1.78    89.8                               0     0   2.0   \n",
       "\n",
       "   NCP  CAEC  SMOKE  CH2O  SCC  FAF  TUE  CALC  MTRANS  NObeyesdad  \n",
       "0  3.0     2      0   2.0    0  0.0  1.0     3       3           1  \n",
       "1  3.0     2      1   3.0    1  3.0  0.0     2       3           1  \n",
       "2  3.0     2      0   2.0    0  2.0  1.0     1       3           1  \n",
       "3  3.0     2      0   2.0    0  2.0  0.0     1       4           5  \n",
       "4  1.0     2      0   2.0    0  0.0  0.0     2       3           6  "
      ]
     },
     "execution_count": 14,
     "metadata": {},
     "output_type": "execute_result"
    }
   ],
   "source": [
    "df_categorized.head()"
   ]
  },
  {
   "cell_type": "code",
   "execution_count": 15,
   "id": "659277c3",
   "metadata": {},
   "outputs": [],
   "source": [
    "df_features = df_categorized.drop(columns = 'NObeyesdad')"
   ]
  },
  {
   "cell_type": "code",
   "execution_count": 16,
   "id": "b5024e12",
   "metadata": {},
   "outputs": [
    {
     "data": {
      "text/html": [
       "<div>\n",
       "<style scoped>\n",
       "    .dataframe tbody tr th:only-of-type {\n",
       "        vertical-align: middle;\n",
       "    }\n",
       "\n",
       "    .dataframe tbody tr th {\n",
       "        vertical-align: top;\n",
       "    }\n",
       "\n",
       "    .dataframe thead th {\n",
       "        text-align: right;\n",
       "    }\n",
       "</style>\n",
       "<table border=\"1\" class=\"dataframe\">\n",
       "  <thead>\n",
       "    <tr style=\"text-align: right;\">\n",
       "      <th></th>\n",
       "      <th>Gender</th>\n",
       "      <th>Age</th>\n",
       "      <th>Height</th>\n",
       "      <th>Weight</th>\n",
       "      <th>family_history_with_overweight</th>\n",
       "      <th>FAVC</th>\n",
       "      <th>FCVC</th>\n",
       "      <th>NCP</th>\n",
       "      <th>CAEC</th>\n",
       "      <th>SMOKE</th>\n",
       "      <th>CH2O</th>\n",
       "      <th>SCC</th>\n",
       "      <th>FAF</th>\n",
       "      <th>TUE</th>\n",
       "      <th>CALC</th>\n",
       "      <th>MTRANS</th>\n",
       "      <th>NObeyesdad</th>\n",
       "    </tr>\n",
       "  </thead>\n",
       "  <tbody>\n",
       "    <tr>\n",
       "      <th>0</th>\n",
       "      <td>-1.010966</td>\n",
       "      <td>-0.522851</td>\n",
       "      <td>-0.875432</td>\n",
       "      <td>-0.862561</td>\n",
       "      <td>0.472565</td>\n",
       "      <td>-2.75829</td>\n",
       "      <td>-0.784838</td>\n",
       "      <td>0.404376</td>\n",
       "      <td>0.29881</td>\n",
       "      <td>-0.145971</td>\n",
       "      <td>-0.012314</td>\n",
       "      <td>-0.218380</td>\n",
       "      <td>-1.187312</td>\n",
       "      <td>0.562347</td>\n",
       "      <td>1.418188</td>\n",
       "      <td>0.503636</td>\n",
       "      <td>Normal_Weight</td>\n",
       "    </tr>\n",
       "    <tr>\n",
       "      <th>1</th>\n",
       "      <td>-1.010966</td>\n",
       "      <td>-0.522851</td>\n",
       "      <td>-1.950036</td>\n",
       "      <td>-1.168884</td>\n",
       "      <td>0.472565</td>\n",
       "      <td>-2.75829</td>\n",
       "      <td>1.088434</td>\n",
       "      <td>0.404376</td>\n",
       "      <td>0.29881</td>\n",
       "      <td>6.850680</td>\n",
       "      <td>1.619759</td>\n",
       "      <td>4.579165</td>\n",
       "      <td>2.339939</td>\n",
       "      <td>-1.079742</td>\n",
       "      <td>-0.521474</td>\n",
       "      <td>0.503636</td>\n",
       "      <td>Normal_Weight</td>\n",
       "    </tr>\n",
       "    <tr>\n",
       "      <th>2</th>\n",
       "      <td>0.989153</td>\n",
       "      <td>-0.207656</td>\n",
       "      <td>1.058855</td>\n",
       "      <td>-0.364787</td>\n",
       "      <td>0.472565</td>\n",
       "      <td>-2.75829</td>\n",
       "      <td>-0.784838</td>\n",
       "      <td>0.404376</td>\n",
       "      <td>0.29881</td>\n",
       "      <td>-0.145971</td>\n",
       "      <td>-0.012314</td>\n",
       "      <td>-0.218380</td>\n",
       "      <td>1.164189</td>\n",
       "      <td>0.562347</td>\n",
       "      <td>-2.461135</td>\n",
       "      <td>0.503636</td>\n",
       "      <td>Normal_Weight</td>\n",
       "    </tr>\n",
       "    <tr>\n",
       "      <th>3</th>\n",
       "      <td>0.989153</td>\n",
       "      <td>0.422733</td>\n",
       "      <td>1.058855</td>\n",
       "      <td>0.018116</td>\n",
       "      <td>-2.116110</td>\n",
       "      <td>-2.75829</td>\n",
       "      <td>1.088434</td>\n",
       "      <td>0.404376</td>\n",
       "      <td>0.29881</td>\n",
       "      <td>-0.145971</td>\n",
       "      <td>-0.012314</td>\n",
       "      <td>-0.218380</td>\n",
       "      <td>1.164189</td>\n",
       "      <td>-1.079742</td>\n",
       "      <td>-2.461135</td>\n",
       "      <td>1.296299</td>\n",
       "      <td>Overweight_Level_I</td>\n",
       "    </tr>\n",
       "    <tr>\n",
       "      <th>4</th>\n",
       "      <td>0.989153</td>\n",
       "      <td>-0.365253</td>\n",
       "      <td>0.843934</td>\n",
       "      <td>0.125329</td>\n",
       "      <td>-2.116110</td>\n",
       "      <td>-2.75829</td>\n",
       "      <td>-0.784838</td>\n",
       "      <td>-2.165781</td>\n",
       "      <td>0.29881</td>\n",
       "      <td>-0.145971</td>\n",
       "      <td>-0.012314</td>\n",
       "      <td>-0.218380</td>\n",
       "      <td>-1.187312</td>\n",
       "      <td>-1.079742</td>\n",
       "      <td>-0.521474</td>\n",
       "      <td>0.503636</td>\n",
       "      <td>Overweight_Level_II</td>\n",
       "    </tr>\n",
       "  </tbody>\n",
       "</table>\n",
       "</div>"
      ],
      "text/plain": [
       "     Gender       Age    Height    Weight  family_history_with_overweight  \\\n",
       "0 -1.010966 -0.522851 -0.875432 -0.862561                        0.472565   \n",
       "1 -1.010966 -0.522851 -1.950036 -1.168884                        0.472565   \n",
       "2  0.989153 -0.207656  1.058855 -0.364787                        0.472565   \n",
       "3  0.989153  0.422733  1.058855  0.018116                       -2.116110   \n",
       "4  0.989153 -0.365253  0.843934  0.125329                       -2.116110   \n",
       "\n",
       "      FAVC      FCVC       NCP     CAEC     SMOKE      CH2O       SCC  \\\n",
       "0 -2.75829 -0.784838  0.404376  0.29881 -0.145971 -0.012314 -0.218380   \n",
       "1 -2.75829  1.088434  0.404376  0.29881  6.850680  1.619759  4.579165   \n",
       "2 -2.75829 -0.784838  0.404376  0.29881 -0.145971 -0.012314 -0.218380   \n",
       "3 -2.75829  1.088434  0.404376  0.29881 -0.145971 -0.012314 -0.218380   \n",
       "4 -2.75829 -0.784838 -2.165781  0.29881 -0.145971 -0.012314 -0.218380   \n",
       "\n",
       "        FAF       TUE      CALC    MTRANS           NObeyesdad  \n",
       "0 -1.187312  0.562347  1.418188  0.503636        Normal_Weight  \n",
       "1  2.339939 -1.079742 -0.521474  0.503636        Normal_Weight  \n",
       "2  1.164189  0.562347 -2.461135  0.503636        Normal_Weight  \n",
       "3  1.164189 -1.079742 -2.461135  1.296299   Overweight_Level_I  \n",
       "4 -1.187312 -1.079742 -0.521474  0.503636  Overweight_Level_II  "
      ]
     },
     "execution_count": 16,
     "metadata": {},
     "output_type": "execute_result"
    }
   ],
   "source": [
    "from sklearn.preprocessing import StandardScaler\n",
    "scaler = StandardScaler()\n",
    "scaler.fit(df_features)\n",
    "df_scaled = pd.DataFrame(scaler.transform(df_features))\n",
    "df_scaled['NObesity'] = df['NObeyesdad']\n",
    "df_scaled.columns = df.columns.to_list()\n",
    "df_scaled.head()"
   ]
  },
  {
   "cell_type": "code",
   "execution_count": 17,
   "id": "a34ed148",
   "metadata": {},
   "outputs": [],
   "source": [
    "df_scaled_features = df_scaled.drop(columns = 'NObeyesdad')\n"
   ]
  },
  {
   "cell_type": "code",
   "execution_count": 18,
   "id": "99f5581c",
   "metadata": {},
   "outputs": [],
   "source": [
    "X_train, X_test, Y_train, Y_test = train_test_split(df_scaled_features, df_categorized['NObeyesdad'], test_size=0.33)"
   ]
  },
  {
   "cell_type": "code",
   "execution_count": 19,
   "id": "56da16f0",
   "metadata": {},
   "outputs": [
    {
     "name": "stdout",
     "output_type": "stream",
     "text": [
      "0       1\n",
      "1       1\n",
      "2       1\n",
      "3       5\n",
      "4       6\n",
      "       ..\n",
      "2106    4\n",
      "2107    4\n",
      "2108    4\n",
      "2109    4\n",
      "2110    4\n",
      "Name: NObeyesdad, Length: 2109, dtype: int32\n"
     ]
    }
   ],
   "source": [
    "print(df_categorized['NObeyesdad'])"
   ]
  },
  {
   "cell_type": "code",
   "execution_count": 20,
   "id": "ef464719",
   "metadata": {},
   "outputs": [
    {
     "name": "stdout",
     "output_type": "stream",
     "text": [
      "(1413, 16) (696, 16) (1413,) (696,)\n"
     ]
    }
   ],
   "source": [
    "print(X_train.shape,X_test.shape,Y_train.shape,Y_test.shape)"
   ]
  },
  {
   "cell_type": "code",
   "execution_count": 21,
   "id": "5a7a409c",
   "metadata": {},
   "outputs": [],
   "source": [
    "perf=[]"
   ]
  },
  {
   "cell_type": "markdown",
   "id": "74dbfe01",
   "metadata": {},
   "source": [
    "# Implementing Perceptron"
   ]
  },
  {
   "cell_type": "code",
   "execution_count": 68,
   "id": "cd3d12f5",
   "metadata": {},
   "outputs": [],
   "source": [
    "from sklearn.linear_model import Perceptron\n",
    "model = Perceptron()"
   ]
  },
  {
   "cell_type": "code",
   "execution_count": 69,
   "id": "ddb69bcc",
   "metadata": {},
   "outputs": [
    {
     "data": {
      "text/plain": [
       "Perceptron()"
      ]
     },
     "execution_count": 69,
     "metadata": {},
     "output_type": "execute_result"
    }
   ],
   "source": [
    "model.fit(X_train,Y_train)"
   ]
  },
  {
   "cell_type": "code",
   "execution_count": 70,
   "id": "deeb74c8",
   "metadata": {},
   "outputs": [
    {
     "name": "stdout",
     "output_type": "stream",
     "text": [
      "model summary : \n",
      "              precision    recall  f1-score   support\n",
      "\n",
      "           0       0.83      0.67      0.74       100\n",
      "           1       0.35      0.34      0.34       104\n",
      "           2       0.48      0.50      0.49       120\n",
      "           3       0.79      0.80      0.79       104\n",
      "           4       0.98      1.00      0.99       100\n",
      "           5       0.24      0.29      0.26        86\n",
      "           6       0.36      0.34      0.35        82\n",
      "\n",
      "    accuracy                           0.57       696\n",
      "   macro avg       0.57      0.56      0.57       696\n",
      "weighted avg       0.58      0.57      0.58       696\n",
      "\n",
      "Accuracy for training  0.6015569709837226\n",
      "Accuracy for testing  0.5718390804597702\n"
     ]
    }
   ],
   "source": [
    "pred_train_pr=model.predict(X_train)\n",
    "pred_test_pr=model.predict(X_test)\n",
    "print(\"model summary : \")\n",
    "print(classification_report(Y_test, pred_test_pr))\n",
    "print(\"Accuracy for training \",accuracy_score(pred_train_pr,Y_train))\n",
    "print(\"Accuracy for testing \",accuracy_score(pred_test_pr,Y_test))\n",
    "score1 = accuracy_score(pred_test_pr, Y_test)\n",
    "perf.append([score1,\"Perceptron\"])"
   ]
  },
  {
   "cell_type": "markdown",
   "id": "2b4a51a7",
   "metadata": {},
   "source": [
    "## Implementing Logistic Regression"
   ]
  },
  {
   "cell_type": "code",
   "execution_count": 25,
   "id": "9b9e9585",
   "metadata": {},
   "outputs": [
    {
     "name": "stderr",
     "output_type": "stream",
     "text": [
      "C:\\Users\\asus\\anaconda3\\lib\\site-packages\\sklearn\\linear_model\\_logistic.py:814: ConvergenceWarning: lbfgs failed to converge (status=1):\n",
      "STOP: TOTAL NO. of ITERATIONS REACHED LIMIT.\n",
      "\n",
      "Increase the number of iterations (max_iter) or scale the data as shown in:\n",
      "    https://scikit-learn.org/stable/modules/preprocessing.html\n",
      "Please also refer to the documentation for alternative solver options:\n",
      "    https://scikit-learn.org/stable/modules/linear_model.html#logistic-regression\n",
      "  n_iter_i = _check_optimize_result(\n"
     ]
    }
   ],
   "source": [
    "logisticRegr = LogisticRegression()\n",
    "logisticRegr.fit(X_train, Y_train)\n",
    "LR_Pred_test = logisticRegr.predict(X_test)\n",
    "LR_pred_train = logisticRegr.predict(X_train)"
   ]
  },
  {
   "cell_type": "code",
   "execution_count": 26,
   "id": "cbb8b466",
   "metadata": {},
   "outputs": [
    {
     "name": "stdout",
     "output_type": "stream",
     "text": [
      "model summary : \n",
      "              precision    recall  f1-score   support\n",
      "\n",
      "           0       0.85      0.98      0.91       100\n",
      "           1       0.87      0.56      0.68       104\n",
      "           2       0.95      0.86      0.90       120\n",
      "           3       0.94      0.98      0.96       104\n",
      "           4       0.96      1.00      0.98       100\n",
      "           5       0.67      0.83      0.74        86\n",
      "           6       0.74      0.78      0.76        82\n",
      "\n",
      "    accuracy                           0.86       696\n",
      "   macro avg       0.85      0.85      0.85       696\n",
      "weighted avg       0.86      0.86      0.85       696\n",
      "\n",
      "Accuracy for training  0.8931351733899504\n",
      "Accuracy for testing  0.8563218390804598\n"
     ]
    }
   ],
   "source": [
    "print(\"model summary : \")\n",
    "print(classification_report(Y_test, LR_Pred_test))\n",
    "print(\"Accuracy for training \",accuracy_score(LR_pred_train,Y_train))\n",
    "print(\"Accuracy for testing \",accuracy_score(LR_Pred_test,Y_test))\n",
    "score2 = accuracy_score(LR_Pred_test, Y_test)\n",
    "perf.append([score2,\"Logistic regression\"])"
   ]
  },
  {
   "cell_type": "markdown",
   "id": "972dbf95",
   "metadata": {},
   "source": [
    "## Implementing SVM"
   ]
  },
  {
   "cell_type": "code",
   "execution_count": 27,
   "id": "6d22038d",
   "metadata": {},
   "outputs": [],
   "source": [
    "from sklearn.svm import SVC\n",
    "clf = SVC()\n",
    "clf.fit(X_train, Y_train)\n",
    "pred_svm_test = clf.predict(X_test)\n",
    "pred_svm_train = clf.predict(X_train)"
   ]
  },
  {
   "cell_type": "code",
   "execution_count": 28,
   "id": "24855780",
   "metadata": {},
   "outputs": [
    {
     "name": "stdout",
     "output_type": "stream",
     "text": [
      "model summary for SVM : \n",
      "              precision    recall  f1-score   support\n",
      "\n",
      "           0       0.92      0.91      0.91       100\n",
      "           1       0.71      0.67      0.69       104\n",
      "           2       0.96      0.90      0.93       120\n",
      "           3       0.95      0.97      0.96       104\n",
      "           4       1.00      1.00      1.00       100\n",
      "           5       0.72      0.85      0.78        86\n",
      "           6       0.89      0.85      0.87        82\n",
      "\n",
      "    accuracy                           0.88       696\n",
      "   macro avg       0.88      0.88      0.88       696\n",
      "weighted avg       0.88      0.88      0.88       696\n",
      "\n",
      "Accuracy for training  0.9419674451521586\n",
      "Accuracy for testing  0.8807471264367817\n"
     ]
    }
   ],
   "source": [
    "print(\"model summary for SVM : \")\n",
    "print(classification_report(Y_test, pred_svm_test))\n",
    "print(\"Accuracy for training \",accuracy_score(pred_svm_train,Y_train))\n",
    "print(\"Accuracy for testing \",accuracy_score(pred_svm_test,Y_test))\n",
    "score3 = accuracy_score(pred_svm_test, Y_test)\n",
    "perf.append([score3,\"SVM\"])"
   ]
  },
  {
   "cell_type": "markdown",
   "id": "a89684ce",
   "metadata": {},
   "source": [
    "## Random Forest"
   ]
  },
  {
   "cell_type": "code",
   "execution_count": 29,
   "id": "b4eae6f2",
   "metadata": {},
   "outputs": [],
   "source": [
    "rf = RandomForestClassifier(n_estimators = 500)\n",
    "rf.fit(X_train, Y_train)\n",
    "rf_pred_test=rf.predict(X_test)\n",
    "rf_pred_train=rf.predict(X_train)"
   ]
  },
  {
   "cell_type": "code",
   "execution_count": 30,
   "id": "5418f5f5",
   "metadata": {},
   "outputs": [
    {
     "name": "stdout",
     "output_type": "stream",
     "text": [
      "matrice de confusion\n",
      "[[ 95   5   0   0   0   0   0]\n",
      " [  2 101   0   0   0   1   0]\n",
      " [  0   0 114   0   0   0   6]\n",
      " [  0   0   1 102   1   0   0]\n",
      " [  0   0   0   0 100   0   0]\n",
      " [  0   7   0   0   0  76   3]\n",
      " [  0   1   0   0   0   2  79]]\n",
      "model summary for Random Forest : \n",
      "              precision    recall  f1-score   support\n",
      "\n",
      "           0       0.98      0.95      0.96       100\n",
      "           1       0.89      0.97      0.93       104\n",
      "           2       0.99      0.95      0.97       120\n",
      "           3       1.00      0.98      0.99       104\n",
      "           4       0.99      1.00      1.00       100\n",
      "           5       0.96      0.88      0.92        86\n",
      "           6       0.90      0.96      0.93        82\n",
      "\n",
      "    accuracy                           0.96       696\n",
      "   macro avg       0.96      0.96      0.96       696\n",
      "weighted avg       0.96      0.96      0.96       696\n",
      "\n",
      "Accuracy for training  1.0\n",
      "Accuracy for testing  0.9583333333333334\n"
     ]
    }
   ],
   "source": [
    "print(\"matrice de confusion\")\n",
    "print(confusion_matrix(Y_test,rf_pred_test))\n",
    "print(\"model summary for Random Forest : \")\n",
    "print(classification_report(Y_test, rf_pred_test))\n",
    "print(\"Accuracy for training \",accuracy_score(rf_pred_train,Y_train))\n",
    "print(\"Accuracy for testing \",accuracy_score(rf_pred_test,Y_test))\n",
    "score4 = accuracy_score(rf_pred_test, Y_test)\n",
    "perf.append([score4,\"Random Forest\"])"
   ]
  },
  {
   "cell_type": "markdown",
   "id": "99082c0d",
   "metadata": {},
   "source": [
    "## Naive Bayes"
   ]
  },
  {
   "cell_type": "code",
   "execution_count": 34,
   "id": "8444df77",
   "metadata": {},
   "outputs": [],
   "source": [
    "gnb = GaussianNB()\n",
    "gnb.fit(X_train, Y_train)\n",
    "pred_gnb_test = gnb.predict(X_test)\n",
    "pred_gnb_train = gnb.predict(X_train)"
   ]
  },
  {
   "cell_type": "code",
   "execution_count": 35,
   "id": "2a386d20",
   "metadata": {},
   "outputs": [
    {
     "name": "stdout",
     "output_type": "stream",
     "text": [
      "matrice de confusion\n",
      "[[ 99   1   0   0   0   0   0]\n",
      " [ 87   5   3   2   0   3   4]\n",
      " [  0   1  52  60   1   3   3]\n",
      " [  0   1   2 101   0   0   0]\n",
      " [  0   0   0   0 100   0   0]\n",
      " [ 33   4  24  19   0   5   1]\n",
      " [ 15   3  15  39   0   2   8]]\n",
      "model summary for Random Forest : \n",
      "              precision    recall  f1-score   support\n",
      "\n",
      "           0       0.42      0.99      0.59       100\n",
      "           1       0.33      0.05      0.08       104\n",
      "           2       0.54      0.43      0.48       120\n",
      "           3       0.46      0.97      0.62       104\n",
      "           4       0.99      1.00      1.00       100\n",
      "           5       0.38      0.06      0.10        86\n",
      "           6       0.50      0.10      0.16        82\n",
      "\n",
      "    accuracy                           0.53       696\n",
      "   macro avg       0.52      0.51      0.43       696\n",
      "weighted avg       0.52      0.53      0.45       696\n",
      "\n",
      "Accuracy for training  0.5222929936305732\n",
      "Accuracy for testing  0.5316091954022989\n"
     ]
    }
   ],
   "source": [
    "print(\"matrice de confusion\")\n",
    "print(confusion_matrix(Y_test,pred_gnb_test))\n",
    "print(\"model summary for Random Forest : \")\n",
    "print(classification_report(Y_test, pred_gnb_test))\n",
    "print(\"Accuracy for training \",accuracy_score(pred_gnb_train,Y_train))\n",
    "print(\"Accuracy for testing \",accuracy_score(pred_gnb_test,Y_test))\n",
    "score5 = accuracy_score(pred_gnb_test, Y_test)\n",
    "perf.append([score5,\"Naive Bayes\"])"
   ]
  },
  {
   "cell_type": "markdown",
   "id": "6839d12f",
   "metadata": {},
   "source": [
    "## Desicion Tree"
   ]
  },
  {
   "cell_type": "code",
   "execution_count": 37,
   "id": "a100632c",
   "metadata": {},
   "outputs": [],
   "source": [
    "from sklearn.tree import DecisionTreeClassifier\n",
    "tree = DecisionTreeClassifier()\n",
    "tree.fit(X_train, Y_train)\n",
    "pred_tree_test = tree.predict(X_test)\n",
    "pred_tree_train = tree.predict(X_train)"
   ]
  },
  {
   "cell_type": "code",
   "execution_count": 38,
   "id": "544b2f6b",
   "metadata": {},
   "outputs": [
    {
     "name": "stdout",
     "output_type": "stream",
     "text": [
      "matrice de confusion\n",
      "[[ 92   8   0   0   0   0   0]\n",
      " [  6  90   0   0   0   8   0]\n",
      " [  0   1 110   3   0   1   5]\n",
      " [  0   0   2 101   1   0   0]\n",
      " [  0   0   0   0 100   0   0]\n",
      " [  0   5   1   0   0  77   3]\n",
      " [  0   0   0   0   0   5  77]]\n",
      "model summary for Desicion Tree : \n",
      "              precision    recall  f1-score   support\n",
      "\n",
      "           0       0.94      0.92      0.93       100\n",
      "           1       0.87      0.87      0.87       104\n",
      "           2       0.97      0.92      0.94       120\n",
      "           3       0.97      0.97      0.97       104\n",
      "           4       0.99      1.00      1.00       100\n",
      "           5       0.85      0.90      0.87        86\n",
      "           6       0.91      0.94      0.92        82\n",
      "\n",
      "    accuracy                           0.93       696\n",
      "   macro avg       0.93      0.93      0.93       696\n",
      "weighted avg       0.93      0.93      0.93       696\n",
      "\n",
      "Accuracy for training  1.0\n",
      "Accuracy for testing  0.9295977011494253\n"
     ]
    }
   ],
   "source": [
    "print(\"matrice de confusion\")\n",
    "print(confusion_matrix(Y_test,pred_tree_test))\n",
    "print(\"model summary for Desicion Tree : \")\n",
    "print(classification_report(Y_test, pred_tree_test))\n",
    "print(\"Accuracy for training \",accuracy_score(pred_tree_train,Y_train))\n",
    "print(\"Accuracy for testing \",accuracy_score(pred_tree_test,Y_test))\n",
    "score6 = accuracy_score(pred_tree_test, Y_test)\n",
    "perf.append([score6,\"Desicion Tree\"])"
   ]
  },
  {
   "cell_type": "markdown",
   "id": "95891e16",
   "metadata": {},
   "source": [
    "#### Ranking Before the Hyperparameter Tuning"
   ]
  },
  {
   "cell_type": "markdown",
   "id": "3e0d8e4f",
   "metadata": {},
   "source": [
    "### Ranking of the best prediction models"
   ]
  },
  {
   "cell_type": "code",
   "execution_count": 39,
   "id": "0dabb152",
   "metadata": {},
   "outputs": [
    {
     "name": "stdout",
     "output_type": "stream",
     "text": [
      "1-Random Forest with an testing accuracy of : 95.83%\n",
      "2-Desicion Tree with an testing accuracy of : 92.96%\n",
      "3-SVM with an testing accuracy of : 88.07%\n",
      "4-Logistic regression with an testing accuracy of : 85.63%\n",
      "5-Perceptron with an testing accuracy of : 57.18%\n",
      "6-Naive Bayes with an testing accuracy of : 53.16%\n"
     ]
    }
   ],
   "source": [
    "perf=sorted(perf, reverse = True)\n",
    "for i in range(len(perf)):\n",
    "    print(str(i+1)+\"-\" + str(perf[i][1])+\" with an testing accuracy of : \"+ str(round(perf[i][0]*100,2))+\"%\")"
   ]
  },
  {
   "cell_type": "markdown",
   "id": "f0ba41e9",
   "metadata": {},
   "source": [
    "## Implementing SVM model With Pipeline"
   ]
  },
  {
   "cell_type": "code",
   "execution_count": 40,
   "id": "3955babe",
   "metadata": {},
   "outputs": [],
   "source": [
    "perf_a = []"
   ]
  },
  {
   "cell_type": "code",
   "execution_count": 41,
   "id": "2b4b85c1",
   "metadata": {},
   "outputs": [],
   "source": [
    "from sklearn.preprocessing import StandardScaler\n",
    "from sklearn.decomposition import PCA\n",
    "from sklearn.pipeline import Pipeline"
   ]
  },
  {
   "cell_type": "code",
   "execution_count": 43,
   "id": "de05b63d",
   "metadata": {},
   "outputs": [],
   "source": [
    "pipe1=Pipeline([('sc',StandardScaler()),('pca',PCA()),('svm',clf)])"
   ]
  },
  {
   "cell_type": "code",
   "execution_count": 44,
   "id": "97665ea6",
   "metadata": {},
   "outputs": [
    {
     "data": {
      "text/plain": [
       "Pipeline(steps=[('sc', StandardScaler()), ('pca', PCA()), ('svm', SVC())])"
      ]
     },
     "execution_count": 44,
     "metadata": {},
     "output_type": "execute_result"
    }
   ],
   "source": [
    "pipe1.fit(X_train,Y_train)"
   ]
  },
  {
   "cell_type": "code",
   "execution_count": 45,
   "id": "a6bf812d",
   "metadata": {},
   "outputs": [],
   "source": [
    "pipeline_train_prediction=pipe1.predict(X_train)"
   ]
  },
  {
   "cell_type": "code",
   "execution_count": 46,
   "id": "6e501e34",
   "metadata": {},
   "outputs": [],
   "source": [
    "pipeline_test_prediction=pipe1.predict(X_test)"
   ]
  },
  {
   "cell_type": "code",
   "execution_count": 51,
   "id": "07ca1e8b",
   "metadata": {},
   "outputs": [
    {
     "data": {
      "image/png": "[encoded data removed]",
      "text/plain": [
       "<Figure size 720x216 with 1 Axes>"
      ]
     },
     "metadata": {
      "needs_background": "light"
     },
     "output_type": "display_data"
    }
   ],
   "source": [
    "plt.figure(figsize=(10, 3))\n",
    "plt.barh(y=[\"Testing\",\"Training\"], width=[accuracy_score(pipeline_test_prediction,Y_test), accuracy_score(pipeline_train_prediction,Y_train)], color=[\"purple\", \"blue\"])\n",
    "plt.xlim(0, 1)\n",
    "plt.xlabel(\"Accuracy\")\n",
    "plt.text(accuracy_score(pipeline_train_prediction,Y_train)+0.01, 1, f\"{accuracy_score(pipeline_train_prediction,Y_train):.2f}\", va='center')\n",
    "plt.text(accuracy_score(pipeline_test_prediction,Y_test)+0.01, 0, f\"{accuracy_score(pipeline_test_prediction,Y_test):.2f}\", va='center')\n",
    "plt.title(\"Training and Testing Accuracy Using SVM with Pipeline\",y=-0.5)\n",
    "plt.show()"
   ]
  },
  {
   "cell_type": "code",
   "execution_count": 52,
   "id": "969646f4",
   "metadata": {},
   "outputs": [],
   "source": [
    "score7 = accuracy_score(pipeline_test_prediction, Y_test)\n",
    "perf_a.append([score7,\"Pipeline SVM\"])"
   ]
  },
  {
   "cell_type": "code",
   "execution_count": 53,
   "id": "541e9a70",
   "metadata": {},
   "outputs": [
    {
     "name": "stdout",
     "output_type": "stream",
     "text": [
      "1-Pipeline SVM with an testing accuracy of : 88.36%\n"
     ]
    }
   ],
   "source": [
    "perf_a=sorted(perf_a, reverse = True)\n",
    "for i in range(len(perf_a)):\n",
    "    print(str(i+1)+\"-\" + str(perf_a[i][1])+\" with an testing accuracy of : \"+ str(round(perf_a[i][0]*100,2))+\"%\")"
   ]
  },
  {
   "cell_type": "markdown",
   "id": "c2082b54",
   "metadata": {},
   "source": [
    "# HyperParameter Tuning for Perceptron"
   ]
  },
  {
   "cell_type": "code",
   "execution_count": 54,
   "id": "e5fca046",
   "metadata": {},
   "outputs": [
    {
     "name": "stdout",
     "output_type": "stream",
     "text": [
      "Best Parameters: {'alpha': 0.01, 'eta0': 0.001, 'max_iter': 100, 'penalty': 'l2'}\n",
      "Best Score: 0.6312858682304588\n"
     ]
    }
   ],
   "source": [
    "param_grid = {\n",
    "    'penalty': [None, 'l2', 'l1', 'elasticnet'],\n",
    "    'alpha': [0.0001, 0.001, 0.01, 0.1],\n",
    "    'max_iter': [100, 500, 1000],\n",
    "    'eta0': [0.1, 0.01, 0.001]\n",
    "}\n",
    "\n",
    "grid_search = GridSearchCV(model, param_grid, cv=5)\n",
    "grid_search.fit(X_train,Y_train)\n",
    "\n",
    "print(\"Best Parameters:\", grid_search.best_params_)\n",
    "print(\"Best Score:\", grid_search.best_score_)"
   ]
  },
  {
   "cell_type": "code",
   "execution_count": null,
   "id": "6d6feecc",
   "metadata": {},
   "outputs": [],
   "source": []
  },
  {
   "cell_type": "markdown",
   "id": "a9a156e3",
   "metadata": {},
   "source": [
    "## Hyperparameter tuning on svm"
   ]
  },
  {
   "cell_type": "code",
   "execution_count": 58,
   "id": "fd57148e",
   "metadata": {},
   "outputs": [
    {
     "name": "stdout",
     "output_type": "stream",
     "text": [
      "0.9575320151367066 SVC(C=4, degree=1, gamma=0.8, kernel='poly')\n"
     ]
    }
   ],
   "source": [
    "parameters = {'C':[4,2,3,5,6], \"degree\":[1,3,5,2,4],'gamma':[0.5,0.1,0.15,0.6,0.8,0.9],\"kernel\":[\"rbf\",\"poly\",\"sigmoid\"]}\n",
    "grid=GridSearchCV(clf,parameters,n_jobs=-1)\n",
    "grid.fit(X_train,Y_train)\n",
    "print(grid.best_score_,grid.best_estimator_)"
   ]
  },
  {
   "cell_type": "code",
   "execution_count": 61,
   "id": "395c7214",
   "metadata": {},
   "outputs": [],
   "source": [
    "clf2 = SVC(C=6, degree=1, gamma=0.9, kernel='poly')\n",
    "clf2.fit(X_train, Y_train)\n",
    "pred_svm2_test= clf2.predict(X_test)\n",
    "pred_svm2_train = clf2.predict(X_train)"
   ]
  },
  {
   "cell_type": "code",
   "execution_count": 62,
   "id": "602285c5",
   "metadata": {},
   "outputs": [
    {
     "name": "stdout",
     "output_type": "stream",
     "text": [
      "model summary for SVM after hp : \n",
      "              precision    recall  f1-score   support\n",
      "\n",
      "           0       0.90      1.00      0.95       100\n",
      "           1       0.99      0.87      0.92       104\n",
      "           2       0.98      0.98      0.98       120\n",
      "           3       0.99      0.98      0.99       104\n",
      "           4       0.99      1.00      1.00       100\n",
      "           5       0.93      0.93      0.93        86\n",
      "           6       0.93      0.95      0.94        82\n",
      "\n",
      "    accuracy                           0.96       696\n",
      "   macro avg       0.96      0.96      0.96       696\n",
      "weighted avg       0.96      0.96      0.96       696\n",
      "\n",
      "Accuracy for training  0.9766454352441614\n",
      "Accuracy for testing  0.9597701149425287\n"
     ]
    }
   ],
   "source": [
    "print(\"model summary for SVM after hp : \")\n",
    "print(classification_report(Y_test, pred_svm2_test))\n",
    "print(\"Accuracy for training \",accuracy_score(pred_svm2_train,Y_train))\n",
    "print(\"Accuracy for testing \",accuracy_score(pred_svm2_test,Y_test))\n",
    "score8 = accuracy_score(pred_svm2_test, Y_test)\n",
    "perf_a.append([score8,\"SVM_2\"])"
   ]
  },
  {
   "cell_type": "markdown",
   "id": "7e3f225a",
   "metadata": {},
   "source": [
    "## HT FOR Desicion tree"
   ]
  },
  {
   "cell_type": "code",
   "execution_count": 71,
   "id": "29ed17cd",
   "metadata": {},
   "outputs": [
    {
     "name": "stdout",
     "output_type": "stream",
     "text": [
      "Best Parameters: {'criterion': 'entropy', 'max_depth': None, 'min_samples_leaf': 1, 'min_samples_split': 2}\n",
      "Best Score: 0.9412600556349148\n"
     ]
    }
   ],
   "source": [
    "param_grid = {\n",
    "    'criterion': ['gini', 'entropy'],\n",
    "    'max_depth': [3, 5, 7, None],\n",
    "    'min_samples_split': [2, 5, 10],\n",
    "    'min_samples_leaf': [1, 2, 4]\n",
    "}\n",
    "\n",
    "grid_search = GridSearchCV(tree, param_grid, cv=5)\n",
    "grid_search.fit(X_train, Y_train)\n",
    "\n",
    "print(\"Best Parameters:\", grid_search.best_params_)\n",
    "print(\"Best Score:\", grid_search.best_score_)"
   ]
  },
  {
   "cell_type": "code",
   "execution_count": 73,
   "id": "3cad48ff",
   "metadata": {},
   "outputs": [],
   "source": [
    "tree2 = DecisionTreeClassifier(criterion='entropy', max_depth=None, min_samples_leaf=1, min_samples_split=2)\n",
    "tree2.fit(X_train, Y_train)\n",
    "pred_tree2_test= tree2.predict(X_test)\n",
    "pred_tree2_train = tree2.predict(X_train)"
   ]
  },
  {
   "cell_type": "code",
   "execution_count": 74,
   "id": "2b68d0a3",
   "metadata": {},
   "outputs": [
    {
     "name": "stdout",
     "output_type": "stream",
     "text": [
      "model summary for tree2 after hp : \n",
      "              precision    recall  f1-score   support\n",
      "\n",
      "           0       0.93      0.90      0.91       100\n",
      "           1       0.87      0.90      0.89       104\n",
      "           2       0.98      0.96      0.97       120\n",
      "           3       0.96      0.97      0.97       104\n",
      "           4       0.99      1.00      1.00       100\n",
      "           5       0.92      0.93      0.92        86\n",
      "           6       0.96      0.95      0.96        82\n",
      "\n",
      "    accuracy                           0.95       696\n",
      "   macro avg       0.95      0.94      0.94       696\n",
      "weighted avg       0.95      0.95      0.95       696\n",
      "\n",
      "Accuracy for training  1.0\n",
      "Accuracy for testing  0.9454022988505747\n"
     ]
    }
   ],
   "source": [
    "print(\"model summary for tree2 after hp : \")\n",
    "print(classification_report(Y_test, pred_tree2_test))\n",
    "print(\"Accuracy for training \",accuracy_score(pred_tree2_train,Y_train))\n",
    "print(\"Accuracy for testing \",accuracy_score(pred_tree2_test,Y_test))\n",
    "score9 = accuracy_score(pred_tree2_test, Y_test)\n",
    "perf_a.append([score9,\"tree2\"])"
   ]
  },
  {
   "cell_type": "markdown",
   "id": "da1c9c39",
   "metadata": {},
   "source": [
    "## HT For Random Forest"
   ]
  },
  {
   "cell_type": "code",
   "execution_count": 76,
   "id": "0f5d73c1",
   "metadata": {},
   "outputs": [
    {
     "name": "stdout",
     "output_type": "stream",
     "text": [
      "Best Parameters: {'max_depth': 6, 'max_features': 'sqrt', 'max_leaf_nodes': 9, 'n_estimators': 100}\n",
      "Best Score: 0.7990226298774529\n"
     ]
    }
   ],
   "source": [
    "param_grid = {\n",
    "    'n_estimators': [25, 50, 100, 150, 500],\n",
    "    'max_features': ['sqrt', 'log2', None],\n",
    "    'max_depth': [3, 6, 9],\n",
    "    'max_leaf_nodes': [3, 6, 9],\n",
    "}\n",
    "\n",
    "grid_search = GridSearchCV(rf, param_grid, cv=5)\n",
    "grid_search.fit(X_train, Y_train)\n",
    "\n",
    "print(\"Best Parameters:\", grid_search.best_params_)\n",
    "print(\"Best Score:\", grid_search.best_score_)"
   ]
  },
  {
   "cell_type": "code",
   "execution_count": 87,
   "id": "a3d25546",
   "metadata": {},
   "outputs": [],
   "source": [
    "rf2 = RandomForestClassifier(max_depth=6, max_features='sqrt', max_leaf_nodes=9, n_estimators=100)\n",
    "rf2.fit(X_train, Y_train)\n",
    "pred_rf2_test= rf2.predict(X_test)\n",
    "pred_rf2_train = rf2.predict(X_train)"
   ]
  },
  {
   "cell_type": "code",
   "execution_count": 88,
   "id": "509645e4",
   "metadata": {},
   "outputs": [
    {
     "name": "stdout",
     "output_type": "stream",
     "text": [
      "model summary for rf2 after hp : \n",
      "              precision    recall  f1-score   support\n",
      "\n",
      "           0       0.82      0.93      0.87       100\n",
      "           1       0.73      0.62      0.67       104\n",
      "           2       0.79      0.69      0.74       120\n",
      "           3       0.83      0.97      0.90       104\n",
      "           4       0.99      1.00      1.00       100\n",
      "           5       0.70      0.66      0.68        86\n",
      "           6       0.64      0.66      0.65        82\n",
      "\n",
      "    accuracy                           0.79       696\n",
      "   macro avg       0.79      0.79      0.79       696\n",
      "weighted avg       0.79      0.79      0.79       696\n",
      "\n",
      "Accuracy for training  0.8223637650389243\n",
      "Accuracy for testing  0.7945402298850575\n"
     ]
    }
   ],
   "source": [
    "print(\"model summary for rf2 after hp : \")\n",
    "print(classification_report(Y_test, pred_rf2_test))\n",
    "print(\"Accuracy for training \",accuracy_score(pred_rf2_train,Y_train))\n",
    "print(\"Accuracy for testing \",accuracy_score(pred_rf2_test,Y_test))\n",
    "score10 = accuracy_score(pred_rf2_test, Y_test)\n",
    "perf_a.append([score10,\"rf2\"])"
   ]
  },
  {
   "cell_type": "code",
   "execution_count": null,
   "id": "6452effe",
   "metadata": {},
   "outputs": [],
   "source": []
  }
 ],
 "metadata": {
  "kernelspec": {
   "display_name": "Python 3 (ipykernel)",
   "language": "python",
   "name": "python3"
  },
  "language_info": {
   "codemirror_mode": {
    "name": "ipython",
    "version": 3
   },
   "file_extension": ".py",
   "mimetype": "text/x-python",
   "name": "python",
   "nbconvert_exporter": "python",
   "pygments_lexer": "ipython3",
   "version": "3.9.12"
  }
 },
 "nbformat": 4,
 "nbformat_minor": 5
}
